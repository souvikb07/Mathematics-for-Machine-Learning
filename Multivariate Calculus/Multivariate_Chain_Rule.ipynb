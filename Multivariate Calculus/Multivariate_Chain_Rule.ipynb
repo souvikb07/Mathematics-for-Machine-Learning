{
 "cells": [
  {
   "cell_type": "code",
   "execution_count": 1,
   "metadata": {},
   "outputs": [],
   "source": [
    "import numpy as np"
   ]
  },
  {
   "cell_type": "code",
   "execution_count": 2,
   "metadata": {},
   "outputs": [],
   "source": [
    "from sympy import *"
   ]
  },
  {
   "cell_type": "code",
   "execution_count": 3,
   "metadata": {},
   "outputs": [],
   "source": [
    "x1 = Symbol('x1')\n",
    "x2 = Symbol('x2')\n",
    "x3 = Symbol('x3')\n",
    "\n",
    "x1_ = Symbol('x1_')\n",
    "x2_ = Symbol('x2_')\n",
    "x3_ = Symbol('x3_')\n",
    "\n",
    "u1 = Symbol('u1')\n",
    "u2 = Symbol('u2')\n",
    "\n",
    "u1_ = Symbol('u1_')\n",
    "u2_ = Symbol('u2_')\n",
    "\n",
    "t = Symbol('t')"
   ]
  },
  {
   "cell_type": "markdown",
   "metadata": {},
   "source": [
    "### 1. calculate the expression $\\frac{df}{dt} = \\frac{\\partial f}{\\partial \\mathbf{x}} \\frac{d\\mathbf{x}}{dt}$ where:\n",
    "$$f(\\mathbf{x}) = f(x_1, x_2) =x_1^2x_2^2 + x_1x_2$$\n",
    "$$\\mathbf{x} = (x_1, x_2)$$\n",
    "$$x_1(t)  =1-t^2$$\n",
    "$$x_2(t)  =1+t^2$$"
   ]
  },
  {
   "cell_type": "code",
   "execution_count": 4,
   "metadata": {},
   "outputs": [],
   "source": [
    "f = x1_**2 * x2_**2 + x1_*x2_\n",
    "x1 = 1 - t**2\n",
    "x2 = 1 + t**2"
   ]
  },
  {
   "cell_type": "code",
   "execution_count": 5,
   "metadata": {},
   "outputs": [
    {
     "data": {
      "text/plain": [
       "array([2*x1_*x2_**2 + x2_, 2*x1_**2*x2_ + x1_], dtype=object)"
      ]
     },
     "execution_count": 5,
     "metadata": {},
     "output_type": "execute_result"
    }
   ],
   "source": [
    "np.array([diff(f, x1_), diff(f, x2_)])"
   ]
  },
  {
   "cell_type": "code",
   "execution_count": 6,
   "metadata": {},
   "outputs": [
    {
     "data": {
      "text/plain": [
       "array([-2*t, 2*t], dtype=object)"
      ]
     },
     "execution_count": 6,
     "metadata": {},
     "output_type": "execute_result"
    }
   ],
   "source": [
    "np.array([diff(x1, t), diff(x2, t)])"
   ]
  },
  {
   "cell_type": "markdown",
   "metadata": {},
   "source": [
    "$$\\frac{df}{dt} = \\frac{\\partial f}{\\partial \\mathbf{x}} \\frac{d\\mathbf{x}}{dt} = [2x_1x_2^2 + x_2, 2x_1^2x_2 + x_1] \\begin{bmatrix} -2t \\\\ 2t \\end{bmatrix}$$"
   ]
  },
  {
   "cell_type": "code",
   "execution_count": 7,
   "metadata": {},
   "outputs": [
    {
     "data": {
      "text/plain": [
       "t**3*(8*t**4 - 12)"
      ]
     },
     "execution_count": 7,
     "metadata": {},
     "output_type": "execute_result"
    }
   ],
   "source": [
    "df =  np.array([\n",
    "    diff(f, x1_).subs({x1_:x1, x2_:x2}),\n",
    "    diff(f, x2_).subs({x1_:x1, x2_:x2})])\n",
    "dx = np.array([diff(x1, t), diff(x2, t)])\n",
    "\n",
    "res = np.dot(df,dx)\n",
    "simplify(res)"
   ]
  },
  {
   "cell_type": "markdown",
   "metadata": {},
   "source": [
    "### 2. For the following functions, calculate the expression $\\frac{df}{dt} = \\frac{\\partial f}{\\partial \\mathbf{x}} \\frac{d\\mathbf{x}}{dt}$ in matrix form, where x = (x1, x2)\n",
    "$$f(\\mathbf{x}) = f(x_1, x_2, x_3) =x_1^3cos(x_2)e^{x_3}$$\n",
    "$$x_1(t) = 2t$$\n",
    "$$x_2(t) = 1-t^2$$\n",
    "$$x_3(t) = e^t$$"
   ]
  },
  {
   "cell_type": "code",
   "execution_count": 8,
   "metadata": {},
   "outputs": [],
   "source": [
    "f = x1_**3 * cos(x2_) * exp(x3_)\n",
    "x1 = 2*t\n",
    "x2 = 1 - t**2\n",
    "x3 = exp(t)"
   ]
  },
  {
   "cell_type": "code",
   "execution_count": 9,
   "metadata": {},
   "outputs": [
    {
     "data": {
      "text/plain": [
       "array([3*x1_**2*exp(x3_)*cos(x2_), -x1_**3*exp(x3_)*sin(x2_),\n",
       "       x1_**3*exp(x3_)*cos(x2_)], dtype=object)"
      ]
     },
     "execution_count": 9,
     "metadata": {},
     "output_type": "execute_result"
    }
   ],
   "source": [
    "np.array([diff(f, x1_), diff(f, x2_), diff(f, x3_)])"
   ]
  },
  {
   "cell_type": "code",
   "execution_count": 10,
   "metadata": {},
   "outputs": [
    {
     "data": {
      "text/plain": [
       "array([2, -2*t, exp(t)], dtype=object)"
      ]
     },
     "execution_count": 10,
     "metadata": {},
     "output_type": "execute_result"
    }
   ],
   "source": [
    "np.array([diff(x1, t), diff(x2, t), diff(x3, t)])"
   ]
  },
  {
   "cell_type": "markdown",
   "metadata": {},
   "source": [
    "$$\\frac{df}{dt} = \\frac{\\partial f}{\\partial \\mathbf{x}} \\frac{d\\mathbf{x}}{dt} = [3x_1^2cos(x_2)e^{x_3}, -x_1^3sin(x_2)e^{x_3}, x_1^3cos(x_2)e^{x_3}] \\begin{bmatrix} 2 \\\\ -2t \\\\ e^t \\end{bmatrix}$$"
   ]
  },
  {
   "cell_type": "code",
   "execution_count": 11,
   "metadata": {},
   "outputs": [
    {
     "data": {
      "text/plain": [
       "8*t**2*(-2*t**2*sin(t**2 - 1) + t*exp(t)*cos(t**2 - 1) + 3*cos(t**2 - 1))*exp(exp(t))"
      ]
     },
     "execution_count": 11,
     "metadata": {},
     "output_type": "execute_result"
    }
   ],
   "source": [
    "df = np.array([\n",
    "        diff(f, x1_).subs({x1_:x1, x2_:x2, x3_:x3}),\n",
    "        diff(f, x2_).subs({x1_:x1, x2_:x2, x3_:x3}),\n",
    "        diff(f, x3_).subs({x1_:x1, x2_:x2, x3_:x3})])\n",
    "dx = np.array([diff(x1, t), diff(x2, t), diff(x3, t)])\n",
    "\n",
    "res = np.dot(df, dx)\n",
    "simplify(res)"
   ]
  },
  {
   "cell_type": "markdown",
   "metadata": {},
   "source": [
    "### 3. For the following functions, calculate the expression $\\frac{df}{dt} = \\frac{\\partial f}{\\partial \\mathbf{x}} \\frac{\\partial \\mathbf{x}}{\\partial \\mathbf{u}} \\frac{d\\mathbf{u}}{dt}$ in matrix form, where x=(x1,x2) and u=(u1,u2)\n",
    "$$f(\\mathbf{x}) = f(x_1, x_2) = x_1^2 - x_2^2$$\n",
    "$$x_1(u_1, u_2) = 2u_1 + 3u_2$$\n",
    "$$x_2(u_1, u_2) =2u_1 -3u_2$$\n",
    "$$u_1(t) = cos(t/2)$$\n",
    "$$u_2(t) = sin(2t)$$"
   ]
  },
  {
   "cell_type": "code",
   "execution_count": 12,
   "metadata": {},
   "outputs": [],
   "source": [
    "f = x1_**2 - x2_**2\n",
    "x1 = 2*u1_ + 3*u2_\n",
    "x2 = 2*u1_ - 3*u2_\n",
    "u1 = cos(t/2)\n",
    "u2 = sin(2*t)"
   ]
  },
  {
   "cell_type": "code",
   "execution_count": 13,
   "metadata": {},
   "outputs": [
    {
     "data": {
      "text/plain": [
       "array([2*x1_, -2*x2_], dtype=object)"
      ]
     },
     "execution_count": 13,
     "metadata": {},
     "output_type": "execute_result"
    }
   ],
   "source": [
    "np.array([diff(f, x1_), diff(f, x2_)])"
   ]
  },
  {
   "cell_type": "code",
   "execution_count": 14,
   "metadata": {},
   "outputs": [
    {
     "data": {
      "text/plain": [
       "array([[2, 3],\n",
       "       [2, -3]], dtype=object)"
      ]
     },
     "execution_count": 14,
     "metadata": {},
     "output_type": "execute_result"
    }
   ],
   "source": [
    "np.array([\n",
    "    [diff(x1, u1_), diff(x1, u2_)],\n",
    "    [diff(x2, u1_), diff(x2, u2_)]])"
   ]
  },
  {
   "cell_type": "code",
   "execution_count": 15,
   "metadata": {},
   "outputs": [
    {
     "data": {
      "text/plain": [
       "array([-sin(t/2)/2, 2*cos(2*t)], dtype=object)"
      ]
     },
     "execution_count": 15,
     "metadata": {},
     "output_type": "execute_result"
    }
   ],
   "source": [
    "np.array([diff(u1, t), diff(u2, t)])"
   ]
  },
  {
   "cell_type": "markdown",
   "metadata": {},
   "source": [
    "$$\\frac{df}{dt} =\\frac{\\partial f}{\\partial \\mathbf{x}} \\frac{\\partial \\mathbf{x}}{\\partial \\mathbf{u}} \\frac{d\\mathbf{u}}{dt} = [2x_1, -2x_2] \\begin{bmatrix} 2 & 3 \\\\ 2 & -3  \\end{bmatrix} \\begin{bmatrix} -sin(t/2)/2 \\\\ 2cos(2t) \\end{bmatrix}$$"
   ]
  },
  {
   "cell_type": "code",
   "execution_count": 16,
   "metadata": {},
   "outputs": [
    {
     "data": {
      "text/plain": [
       "18*cos(3*t/2) + 30*cos(5*t/2)"
      ]
     },
     "execution_count": 16,
     "metadata": {},
     "output_type": "execute_result"
    }
   ],
   "source": [
    "df = np.array([\n",
    "        diff(f, x1_).subs({x1_:x1, x2_:x2}).subs({u1_:u1, u2_:u2}),\n",
    "        diff(f, x2_).subs({x1_:x1, x2_:x2}).subs({u1_:u1, u2_:u2})])\n",
    "dx = np.array([\n",
    "    [diff(x1, u1_).subs({u1_:u1, u2_:u2}), diff(x1, u2_).subs({u1_:u1, u2_:u2})],\n",
    "    [diff(x2, u1_).subs({u1_:u1, u2_:u2}), diff(x2, u2_).subs({u1_:u1, u2_:u2})]])\n",
    "du = np.array([\n",
    "    diff(u1, t),\n",
    "    diff(u2, t)])\n",
    "\n",
    "res = np.dot(np.dot(df, dx), du)\n",
    "simplify(res)"
   ]
  },
  {
   "cell_type": "markdown",
   "metadata": {},
   "source": [
    "### 4. For the following functions, calculate the expression $\\frac{df}{dt} = \\frac{\\partial f}{\\partial \\mathbf{x}} \\frac{\\partial \\mathbf{x}}{\\partial \\mathbf{u}} \\frac{d\\mathbf{u}}{dt}$ in matrix form, where x=(x1,x2) and u=(u1,u2)\n",
    "$$f(\\mathbf{x}) = f(x_1, x_2) = cos(x_1)sin(x_2)$$\n",
    "$$x_1(u_1, u_2) = 2u_1^2 + 3u_2^2 -u_2$$\n",
    "$$x_2(u_1, u_2) =2u_1 -5u_2^3$$\n",
    "$$u_1(t) = e^{t/2}$$\n",
    "$$u_2(t) = e^{-2t}$$"
   ]
  },
  {
   "cell_type": "code",
   "execution_count": 17,
   "metadata": {},
   "outputs": [],
   "source": [
    "f = cos(x1_) * sin(x2_)\n",
    "x1 = 2*u1_**2 + 3*u2_**2 - u2_\n",
    "x2 = 2*u1_ - 5*u2_**3\n",
    "u1 = exp(t/2)\n",
    "u2 = exp(-2*t)"
   ]
  },
  {
   "cell_type": "code",
   "execution_count": 18,
   "metadata": {},
   "outputs": [
    {
     "data": {
      "text/plain": [
       "array([-sin(x1_)*sin(x2_), cos(x1_)*cos(x2_)], dtype=object)"
      ]
     },
     "execution_count": 18,
     "metadata": {},
     "output_type": "execute_result"
    }
   ],
   "source": [
    "np.array([diff(f, x1_), diff(f, x2_)])"
   ]
  },
  {
   "cell_type": "code",
   "execution_count": 19,
   "metadata": {},
   "outputs": [
    {
     "data": {
      "text/plain": [
       "array([[4*u1_, 6*u2_ - 1],\n",
       "       [2, -15*u2_**2]], dtype=object)"
      ]
     },
     "execution_count": 19,
     "metadata": {},
     "output_type": "execute_result"
    }
   ],
   "source": [
    "np.array([\n",
    "    [diff(x1, u1_), diff(x1, u2_)],\n",
    "    [diff(x2, u1_), diff(x2, u2_)]])"
   ]
  },
  {
   "cell_type": "code",
   "execution_count": 20,
   "metadata": {},
   "outputs": [
    {
     "data": {
      "text/plain": [
       "array([exp(t/2)/2, -2*exp(-2*t)], dtype=object)"
      ]
     },
     "execution_count": 20,
     "metadata": {},
     "output_type": "execute_result"
    }
   ],
   "source": [
    "np.array([diff(u1, t), diff(u2, t)])"
   ]
  },
  {
   "cell_type": "markdown",
   "metadata": {},
   "source": [
    "$$\\frac{df}{dt} =\\frac{\\partial f}{\\partial \\mathbf{x}} \\frac{\\partial \\mathbf{x}}{\\partial \\mathbf{u}} \\frac{d\\mathbf{u}}{dt} = [-sin(x_1)sin(x_2), cos(x_1)cos(x_2)] \\begin{bmatrix} 4u_1 & 6u_2 - 1 \\\\ 2 & -15u_2^2 \\end{bmatrix} \\begin{bmatrix} e^{t/2}/2 \\\\ -2e^{-2t} \\end{bmatrix}$$"
   ]
  },
  {
   "cell_type": "code",
   "execution_count": 21,
   "metadata": {},
   "outputs": [
    {
     "data": {
      "text/plain": [
       "((-2*exp(t/2)*sin(2*exp(t/2) - 5*exp(-6*t))*sin(2*exp(t) - exp(-2*t) + 3*exp(-4*t)) + cos(2*exp(t/2) - 5*exp(-6*t))*cos(2*exp(t) - exp(-2*t) + 3*exp(-4*t)))*exp(17*t/2) - 2*(exp(2*t) - 6)*exp(4*t)*sin(2*exp(t/2) - 5*exp(-6*t))*sin(2*exp(t) - exp(-2*t) + 3*exp(-4*t)) + 30*exp(2*t)*cos(2*exp(t/2) - 5*exp(-6*t))*cos(2*exp(t) - exp(-2*t) + 3*exp(-4*t)))*exp(-8*t)"
      ]
     },
     "execution_count": 21,
     "metadata": {},
     "output_type": "execute_result"
    }
   ],
   "source": [
    "df = np.array([\n",
    "        diff(f, x1_).subs({x1_:x1, x2_:x2}).subs({u1_:u1, u2_:u2}),\n",
    "        diff(f, x2_).subs({x1_:x1, x2_:x2}).subs({u1_:u1, u2_:u2})])\n",
    "dx = np.array([\n",
    "    [diff(x1, u1_).subs({u1_:u1, u2_:u2}), diff(x1, u2_).subs({u1_:u1, u2_:u2})],\n",
    "    [diff(x2, u1_).subs({u1_:u1, u2_:u2}), diff(x2, u2_).subs({u1_:u1, u2_:u2})]])\n",
    "du = np.array([\n",
    "    diff(u1, t),\n",
    "    diff(u2, t)])\n",
    "\n",
    "res = np.dot(np.dot(df, dx), du)\n",
    "simplify(res)"
   ]
  },
  {
   "cell_type": "markdown",
   "metadata": {},
   "source": [
    "### 5. For the following functions, calculate the expression $\\frac{df}{dt} = \\frac{\\partial f}{\\partial \\mathbf{x}} \\frac{\\partial \\mathbf{x}}{\\partial \\mathbf{u}} \\frac{d\\mathbf{u}}{dt}$ in matrix form, where x=(x1,x2) and u=(u1,u2).\n",
    "$$f(\\mathbf{x}) = f(x_1, x_2, x_3) = sin(x_1)cos(x_2)e^{x_3}$$\n",
    "$$x_1(u_1, u_2) = sin(u_1) + cos(u_2)$$\n",
    "$$x_2(u_1, u_2) = cos(u_1) - sin(u_2)$$\n",
    "$$x_3(u_1, u_2) = e^{u_1 + u_2}$$\n",
    "$$u_1(t) = 1 + t/2$$\n",
    "$$u_2(t) = 1 - t/2$$"
   ]
  },
  {
   "cell_type": "code",
   "execution_count": 22,
   "metadata": {},
   "outputs": [],
   "source": [
    "f = sin(x1_)*cos(x2_)*exp(x3_)\n",
    "x1 = sin(u1_) + cos(u2_)\n",
    "x2 = cos(u1_) - sin(u2_)\n",
    "x3 = exp(u1_ + u2_)\n",
    "u1 = 1 + t/2\n",
    "u2 = 1 - t/2"
   ]
  },
  {
   "cell_type": "code",
   "execution_count": 23,
   "metadata": {},
   "outputs": [
    {
     "data": {
      "text/plain": [
       "array([exp(x3_)*cos(x1_)*cos(x2_), -exp(x3_)*sin(x1_)*sin(x2_),\n",
       "       exp(x3_)*sin(x1_)*cos(x2_)], dtype=object)"
      ]
     },
     "execution_count": 23,
     "metadata": {},
     "output_type": "execute_result"
    }
   ],
   "source": [
    "np.array([diff(f, x1_), diff(f, x2_), diff(f, x3_)])"
   ]
  },
  {
   "cell_type": "code",
   "execution_count": 24,
   "metadata": {},
   "outputs": [
    {
     "data": {
      "text/plain": [
       "array([[cos(u1_), -sin(u2_)],\n",
       "       [-sin(u1_), -cos(u2_)],\n",
       "       [exp(u1_ + u2_), exp(u1_ + u2_)]], dtype=object)"
      ]
     },
     "execution_count": 24,
     "metadata": {},
     "output_type": "execute_result"
    }
   ],
   "source": [
    "np.array([\n",
    "    [diff(x1, u1_), diff(x1, u2_)],\n",
    "    [diff(x2, u1_), diff(x2, u2_)],\n",
    "    [diff(x3, u1_), diff(x3, u2_)]])"
   ]
  },
  {
   "cell_type": "code",
   "execution_count": 25,
   "metadata": {},
   "outputs": [
    {
     "data": {
      "text/plain": [
       "array([1/2, -1/2], dtype=object)"
      ]
     },
     "execution_count": 25,
     "metadata": {},
     "output_type": "execute_result"
    }
   ],
   "source": [
    "np.array([diff(u1, t), diff(u2, t)])"
   ]
  },
  {
   "cell_type": "markdown",
   "metadata": {},
   "source": [
    "$$[cos(x_1)cos(x_2)e^{x_3}, -sin(x_1)sin(x_2)e^{x_3}, sin(x_1)cos(x_2)e^{x_3}] \\begin{bmatrix} cos(u_1) & -sin(u_2) \\\\ -sin(u_1) & -cos(u_2) \\\\ e^{u_1 + u_2} & e^{u_1 + u_2} \\end{bmatrix} \\begin{bmatrix} 1/2 \\\\ -1/2 \\end{bmatrix}$$"
   ]
  },
  {
   "cell_type": "code",
   "execution_count": 26,
   "metadata": {},
   "outputs": [
    {
     "data": {
      "text/plain": [
       "(-sin(t/2 - 1)*cos(sin(t/2 - 1) + cos(t/2 + 1))*cos(sin(t/2 + 1) + cos(t/2 - 1)) + sin(t/2 + 1)*sin(sin(t/2 - 1) + cos(t/2 + 1))*sin(sin(t/2 + 1) + cos(t/2 - 1)) - sin(sin(t/2 - 1) + cos(t/2 + 1))*sin(sin(t/2 + 1) + cos(t/2 - 1))*cos(t/2 - 1) + cos(t/2 + 1)*cos(sin(t/2 - 1) + cos(t/2 + 1))*cos(sin(t/2 + 1) + cos(t/2 - 1)))*exp(exp(2))/2"
      ]
     },
     "execution_count": 26,
     "metadata": {},
     "output_type": "execute_result"
    }
   ],
   "source": [
    "df = np.array([\n",
    "        diff(f, x1_).subs({x1_:x1, x2_:x2, x3_:x3}).subs({u1_:u1, u2_:u2}),\n",
    "        diff(f, x2_).subs({x1_:x1, x2_:x2, x3_:x3}).subs({u1_:u1, u2_:u2}),\n",
    "        diff(f, x3_).subs({x1_:x1, x2_:x2, x3_:x3}).subs({u1_:u1, u2_:u2})])\n",
    "dx = np.array([\n",
    "    [diff(x1, u1_).subs({u1_:u1, u2_:u2}), diff(x1, u2_).subs({u1_:u1, u2_:u2})],\n",
    "    [diff(x2, u1_).subs({u1_:u1, u2_:u2}), diff(x2, u2_).subs({u1_:u1, u2_:u2})],\n",
    "    [diff(x3, u1_).subs({u1_:u1, u2_:u2}), diff(x3, u2_).subs({u1_:u1, u2_:u2})]])\n",
    "du = np.array([\n",
    "    diff(u1, t),\n",
    "    diff(u2, t)])\n",
    "\n",
    "res = np.dot(np.dot(df, dx), du)\n",
    "simplify(res)"
   ]
  }
 ],
 "metadata": {
  "kernelspec": {
   "display_name": "Python 2",
   "language": "python",
   "name": "python2"
  },
  "language_info": {
   "codemirror_mode": {
    "name": "ipython",
    "version": 2
   },
   "file_extension": ".py",
   "mimetype": "text/x-python",
   "name": "python",
   "nbconvert_exporter": "python",
   "pygments_lexer": "ipython2",
   "version": "2.7.14"
  }
 },
 "nbformat": 4,
 "nbformat_minor": 2
}
