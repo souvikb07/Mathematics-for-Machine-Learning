{
 "cells": [
  {
   "cell_type": "code",
   "execution_count": 1,
   "metadata": {},
   "outputs": [],
   "source": [
    "import numpy as np"
   ]
  },
  {
   "cell_type": "code",
   "execution_count": 2,
   "metadata": {},
   "outputs": [],
   "source": [
    "from sympy import *"
   ]
  },
  {
   "cell_type": "code",
   "execution_count": 3,
   "metadata": {},
   "outputs": [],
   "source": [
    "x = Symbol('x')\n",
    "y = Symbol('y')\n",
    "z = Symbol('z')"
   ]
  },
  {
   "cell_type": "markdown",
   "metadata": {},
   "source": [
    "### Calculate the Jacobian of the function\n",
    "- f(x,y,z) = (x^2)*cos(y) + exp(z)*sin(y) \n",
    "- evaluate at the point (x,y,z)=(π,π,1)."
   ]
  },
  {
   "cell_type": "code",
   "execution_count": 4,
   "metadata": {},
   "outputs": [],
   "source": [
    "f = x**2*cos(y) + exp(z)*sin(y)"
   ]
  },
  {
   "cell_type": "code",
   "execution_count": 5,
   "metadata": {},
   "outputs": [
    {
     "name": "stdout",
     "output_type": "stream",
     "text": [
      "[2*x*cos(y) -x**2*sin(y) + exp(z)*cos(y) exp(z)*sin(y)]\n"
     ]
    }
   ],
   "source": [
    "J = np.array(\n",
    "    [diff(f, x), diff(f, y), diff(f, z)])\n",
    "\n",
    "print J"
   ]
  },
  {
   "cell_type": "code",
   "execution_count": 6,
   "metadata": {},
   "outputs": [
    {
     "name": "stdout",
     "output_type": "stream",
     "text": [
      "[-2*pi -E 0]\n"
     ]
    }
   ],
   "source": [
    "print np.array([\n",
    "    diff(f, x).subs({x:pi, y:pi, z:1}),\n",
    "    diff(f, y).subs({x:pi, y:pi, z:1}),\n",
    "    diff(f, z).subs({x:pi, y:pi, z:1})])"
   ]
  },
  {
   "cell_type": "markdown",
   "metadata": {},
   "source": [
    "### Calculate the Jacobian of the vector valued functions\n",
    "\n",
    "- u(x,y) = (x^2)*y − cos(x)*sin(y) and v(x,y)=exp(x+y)\n",
    "- evaluate at the point (0,π)"
   ]
  },
  {
   "cell_type": "code",
   "execution_count": 7,
   "metadata": {},
   "outputs": [],
   "source": [
    "u = x**2*y - cos(x)*sin(y)\n",
    "v = exp(x+y)"
   ]
  },
  {
   "cell_type": "code",
   "execution_count": 8,
   "metadata": {},
   "outputs": [
    {
     "name": "stdout",
     "output_type": "stream",
     "text": [
      "[[2*x*y + sin(x)*sin(y) x**2 - cos(x)*cos(y)]\n",
      " [exp(x + y) exp(x + y)]]\n"
     ]
    }
   ],
   "source": [
    "J = np.array([\n",
    "    [diff(u, x), diff(u, y)],\n",
    "    [diff(v, x), diff(v, y)]\n",
    "])\n",
    "    \n",
    "print J"
   ]
  },
  {
   "cell_type": "code",
   "execution_count": 9,
   "metadata": {},
   "outputs": [
    {
     "name": "stdout",
     "output_type": "stream",
     "text": [
      "[[0 1]\n",
      " [exp(pi) exp(pi)]]\n"
     ]
    }
   ],
   "source": [
    "print np.array([\n",
    "    [diff(u, x).subs({x:0, y:pi}), diff(u, y).subs({x:0, y:pi})],\n",
    "    [diff(v, x).subs({x:0, y:pi}), diff(v, y).subs({x:0, y:pi})]\n",
    "])"
   ]
  },
  {
   "cell_type": "markdown",
   "metadata": {},
   "source": [
    "### Calculate the Hessian for the function.\n",
    "- f(x,y) = (x^3)*cos(y) − x*sin(y)"
   ]
  },
  {
   "cell_type": "code",
   "execution_count": 10,
   "metadata": {},
   "outputs": [],
   "source": [
    "f = x**3*cos(y) + x*sin(y)"
   ]
  },
  {
   "cell_type": "code",
   "execution_count": 11,
   "metadata": {},
   "outputs": [
    {
     "name": "stdout",
     "output_type": "stream",
     "text": [
      "[[6*x*cos(y) -3*x**2*sin(y) + cos(y)]\n",
      " [-3*x**2*sin(y) + cos(y) -x**3*cos(y) - x*sin(y)]]\n"
     ]
    }
   ],
   "source": [
    "H = np.array([\n",
    "    [diff(diff(f, x), x), diff(diff(f, x), y)],\n",
    "    [diff(diff(f, y), x), diff(diff(f, y), y)]\n",
    "])\n",
    "\n",
    "print H"
   ]
  },
  {
   "cell_type": "markdown",
   "metadata": {},
   "source": [
    "### Calculate the Hessian for the function \n",
    "- f(x,y,z) = xy + sin(y)sin(z) + (z^3)*exp(x)"
   ]
  },
  {
   "cell_type": "code",
   "execution_count": 12,
   "metadata": {},
   "outputs": [],
   "source": [
    "f = x*y + sin(y)*sin(z) + (z**3)*exp(x)"
   ]
  },
  {
   "cell_type": "code",
   "execution_count": 13,
   "metadata": {},
   "outputs": [
    {
     "name": "stdout",
     "output_type": "stream",
     "text": [
      "[[z**3*exp(x) 1 3*z**2*exp(x)]\n",
      " [1 -sin(y)*sin(z) cos(y)*cos(z)]\n",
      " [3*z**2*exp(x) cos(y)*cos(z) 6*z*exp(x) - sin(y)*sin(z)]]\n"
     ]
    }
   ],
   "source": [
    "H = np.array([\n",
    "    [diff(diff(f, x), x), diff(diff(f, x), y), diff(diff(f, x), z)],\n",
    "    [diff(diff(f, y), x), diff(diff(f, y), y), diff(diff(f, y), z)],\n",
    "    [diff(diff(f, z), x), diff(diff(f, z), y), diff(diff(f, z), z)]\n",
    "])\n",
    "\n",
    "print H"
   ]
  },
  {
   "cell_type": "markdown",
   "metadata": {},
   "source": [
    "### Calculate the Hessian for the function\n",
    "- f(x,y,z) = xycos(z) − sin(x)*exp(y)*(z^3)\n",
    "- evaluate at the point (x,y,z)=(0,0,0)"
   ]
  },
  {
   "cell_type": "code",
   "execution_count": 14,
   "metadata": {},
   "outputs": [],
   "source": [
    "f = x*y*cos(z) - sin(x)*exp(y)*(z**3)"
   ]
  },
  {
   "cell_type": "code",
   "execution_count": 15,
   "metadata": {},
   "outputs": [
    {
     "name": "stdout",
     "output_type": "stream",
     "text": [
      "[[z**3*exp(y)*sin(x) -z**3*exp(y)*cos(x) + cos(z)\n",
      "  -y*sin(z) - 3*z**2*exp(y)*cos(x)]\n",
      " [-z**3*exp(y)*cos(x) + cos(z) -z**3*exp(y)*sin(x)\n",
      "  -x*sin(z) - 3*z**2*exp(y)*sin(x)]\n",
      " [-y*sin(z) - 3*z**2*exp(y)*cos(x) -x*sin(z) - 3*z**2*exp(y)*sin(x)\n",
      "  -x*y*cos(z) - 6*z*exp(y)*sin(x)]]\n"
     ]
    }
   ],
   "source": [
    "H = np.array([\n",
    "    [diff(diff(f, x), x), diff(diff(f, x), y), diff(diff(f, x), z)],\n",
    "    [diff(diff(f, y), x), diff(diff(f, y), y), diff(diff(f, y), z)],\n",
    "    [diff(diff(f, z), x), diff(diff(f, z), y), diff(diff(f, z), z)]\n",
    "])\n",
    "\n",
    "print H"
   ]
  },
  {
   "cell_type": "code",
   "execution_count": 16,
   "metadata": {},
   "outputs": [
    {
     "name": "stdout",
     "output_type": "stream",
     "text": [
      "[[0 1 0]\n",
      " [1 0 0]\n",
      " [0 0 0]]\n"
     ]
    }
   ],
   "source": [
    "print np.array([\n",
    "    [diff(diff(f, x), x).subs({x:0, y:0, z:0}), diff(diff(f, x), y).subs({x:0, y:0, z:0}), diff(diff(f, x), z).subs({x:0, y:0, z:0})],\n",
    "    [diff(diff(f, y), x).subs({x:0, y:0, z:0}), diff(diff(f, y), y).subs({x:0, y:0, z:0}), diff(diff(f, y), z).subs({x:0, y:0, z:0})],\n",
    "    [diff(diff(f, z), x).subs({x:0, y:0, z:0}), diff(diff(f, z), y).subs({x:0, y:0, z:0}), diff(diff(f, z), z).subs({x:0, y:0, z:0})]\n",
    "])"
   ]
  }
 ],
 "metadata": {
  "kernelspec": {
   "display_name": "Python 2",
   "language": "python",
   "name": "python2"
  },
  "language_info": {
   "codemirror_mode": {
    "name": "ipython",
    "version": 2
   },
   "file_extension": ".py",
   "mimetype": "text/x-python",
   "name": "python",
   "nbconvert_exporter": "python",
   "pygments_lexer": "ipython2",
   "version": "2.7.14"
  }
 },
 "nbformat": 4,
 "nbformat_minor": 2
}
