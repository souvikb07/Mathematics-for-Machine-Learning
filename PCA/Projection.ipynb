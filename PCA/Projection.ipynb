{
 "cells": [
  {
   "cell_type": "markdown",
   "metadata": {},
   "source": [
    "# Orthogonal Projections"
   ]
  },
  {
   "cell_type": "markdown",
   "metadata": {},
   "source": [
    "## Learning Objectives\n",
    "\n",
    "In this week, we will write functions which perform orthogonal projections.\n",
    "\n",
    "By the end of this week, you should be able to\n",
    "\n",
    "1. Write code that projects data onto lower-dimensional subspaces.\n",
    "2. Understand the real world applications of projections.\n",
    "\n",
    "We highlight some tips and tricks which would be useful when you implement numerical \n",
    "algorithms that you have never encountered before. \n",
    "You are invited to think about these concepts when you \n",
    "write your program. \n",
    "\n",
    "The important thing is to learn to map from mathematical equations to code. It is not always\n",
    "easy to do so, but you will get better at it with more practice.\n",
    "\n",
    "We will apply this to project high-dimensional face images onto lower dimensional basis which we call \"eigenfaces\". We will also revisit the problem of linear regression, but from the perspective of solving normal equations,\n",
    "the concept which you apply to derive the formula for orthogonal projections. We will apply this to predict housing \n",
    "prices for the Boston housing dataset, which is a classic example in machine learning."
   ]
  },
  {
   "cell_type": "code",
   "execution_count": 2,
   "metadata": {},
   "outputs": [],
   "source": [
    "# PACKAGE\n",
    "import matplotlib\n",
    "matplotlib.use('Agg')\n",
    "import matplotlib.pyplot as plt\n",
    "plt.style.use('fivethirtyeight')\n",
    "import numpy as np"
   ]
  },
  {
   "cell_type": "code",
   "execution_count": 3,
   "metadata": {},
   "outputs": [],
   "source": [
    "from sklearn.datasets import fetch_olivetti_faces, fetch_lfw_people\n",
    "from ipywidgets import interact\n",
    "%matplotlib inline\n",
    "image_shape = (64, 64)\n",
    "# Load faces data\n",
    "dataset = fetch_olivetti_faces()\n",
    "faces = dataset.data"
   ]
  },
  {
   "cell_type": "markdown",
   "metadata": {},
   "source": [
    "### Advice for testing numerical algorithms\n",
    "\n",
    "Testing machine learning algorithms (or numerical algorithms in general)\n",
    "is sometimes really hard as it depends on the dataset\n",
    "to produce an answer, and you will never be able to test your algorithm on all the datasets\n",
    "we have in the world. Nevertheless, we have some tips for you to help you identify bugs in\n",
    "your implementations.\n",
    "\n",
    "#### 1. Test on small dataset\n",
    "Test your algorithms on small dataset: datasets of size 1 or 2 sometimes will suffice. This\n",
    "is useful because you can (if necessary) compute the answers by hand and compare them with\n",
    "the answers produced by the computer program you wrote. In fact, these small datasets can even have special numbers,\n",
    "which will allow you to compute the answers by hand easily.\n",
    "\n",
    "#### 2. Find invariants\n",
    "Invariants refer to properties of your algorithm and functions that are maintained regardless\n",
    "of the input. We will highlight this point later in this notebook where you will see functions,\n",
    "which will check invariants for some of the answers you produce.\n",
    "\n",
    "Invariants you may want to look for:\n",
    "1. Does your algorithm always produce a positive/negative answer, or a positive definite matrix?\n",
    "2. If the algorithm is iterative, do the intermediate results increase/decrease monotonically?\n",
    "3. Does your solution relate with your input in some interesting way, e.g. orthogonality? \n",
    "\n",
    "When you have a set of invariants, you can generate random inputs and make \n",
    "assertions about these invariants. This is sometimes known as [fuzzing](https://en.wikipedia.org/wiki/Fuzzing), which has proven to be a very effective technique for identifying bugs in programs.\n",
    "\n",
    "Finding invariants is hard, and sometimes there simply isn't any invariant. However, DO take advantage of them if you can find them. They are the most powerful checks when you have them."
   ]
  },
  {
   "cell_type": "markdown",
   "metadata": {},
   "source": [
    "## 1. Orthogonal Projections"
   ]
  },
  {
   "cell_type": "markdown",
   "metadata": {},
   "source": [
    "Recall that for projection of a vector $x$ onto a 1-dimensional subspace $U$ with basis vector $\\boldsymbol b$ we have\n",
    "\n",
    "$${\\pi_U}(\\boldsymbol x) = \\frac{\\boldsymbol b\\boldsymbol b^T}{{\\lVert \\boldsymbol b \\rVert}^2}\\boldsymbol x $$\n",
    "\n",
    "And for the general projection onto an M-dimensional subspace $U$ with basis vectors $\\boldsymbol b_1,\\dotsc, \\boldsymbol b_M$ we have\n",
    "\n",
    "$${\\pi_U}(\\boldsymbol x) = \\boldsymbol B(\\boldsymbol B^T\\boldsymbol B)^{-1}\\boldsymbol B^T\\boldsymbol x $$\n",
    "\n",
    "where \n",
    "\n",
    "$$\\boldsymbol B = (\\boldsymbol b_1|...|\\boldsymbol b_M)$$\n",
    "\n",
    "\n",
    "Your task is to implement orthogonal projections. We can split this into two steps\n",
    "1. Find the projection matrix $\\boldsymbol P$ that projects any $\\boldsymbol x$ onto $U$.\n",
    "2. The projected vector $\\pi_U(\\boldsymbol x)$ of $\\boldsymbol x$ can then be written as $\\pi_U(\\boldsymbol x) = \\boldsymbol P\\boldsymbol x$."
   ]
  },
  {
   "cell_type": "code",
   "execution_count": 4,
   "metadata": {},
   "outputs": [],
   "source": [
    "import numpy.testing as np_test\n",
    "def test_property_projection_matrix(P):\n",
    "    \"\"\"Test if the projection matrix satisfies certain properties.\n",
    "    In particular, we should have P @ P = P, and P = P^T\n",
    "    \"\"\"\n",
    "    np_test.assert_almost_equal(P, P @ P)\n",
    "    np_test.assert_almost_equal(P, P.T)\n",
    "\n",
    "def test_property_projection(x, p):\n",
    "    \"\"\"Test orthogonality of x and its projection p.\"\"\"\n",
    "    np_test.assert_almost_equal(np.dot(p-x, p), 0)"
   ]
  },
  {
   "cell_type": "code",
   "execution_count": 6,
   "metadata": {},
   "outputs": [],
   "source": [
    "# Projection 1d\n",
    "def projection_matrix_1d(b):\n",
    "    \"\"\"Compute the projection matrix onto the space spanned by `b`\n",
    "    Args:\n",
    "        b: ndarray of dimension (D,), the basis for the subspace\n",
    "    \n",
    "    Returns:\n",
    "        P: the projection matrix\n",
    "    \"\"\"\n",
    "    b_arr = np.array(b.T)\n",
    "    b_squared = np.dot(b_arr, b_arr)\n",
    "\n",
    "    b_mat = np.matrix(b).T\n",
    "\n",
    "    P = b_mat * b_mat.T / b_squared\n",
    "    return P\n",
    "\n",
    "def project_1d(x, b):\n",
    "    \"\"\"Compute the projection matrix onto the space spanned by `b`\n",
    "    Args:\n",
    "        x: the vector to be projected\n",
    "        b: ndarray of dimension (D,), the basis for the subspace\n",
    "    \n",
    "    Returns:\n",
    "        y: projection of x in space spanned by b\n",
    "    \"\"\"\n",
    "    p = np.array(projection_matrix_1d(b) * np.matrix(x).T).T[0]\n",
    "    return p\n",
    "\n",
    "# Projection onto general subspace\n",
    "def projection_matrix_general(B):\n",
    "    \"\"\"Compute the projection matrix onto the space spanned by `B`\n",
    "    Args:\n",
    "        B: ndarray of dimension (D, M), the basis for the subspace\n",
    "    \n",
    "    Returns:\n",
    "        P: the projection matrix\n",
    "    \"\"\"\n",
    "    B = np.matrix(B)\n",
    "    P = B * np.linalg.inv(B.T * B) * B.T\n",
    "    return P\n",
    "\n",
    "def project_general(x, B):\n",
    "    \"\"\"Compute the projection matrix onto the space spanned by `B`\n",
    "    Args:\n",
    "        B: ndarray of dimension (D, E), the basis for the subspace\n",
    "    \n",
    "    Returns:\n",
    "        y: projection of x in space spanned by b\n",
    "    \"\"\"\n",
    "    y = np.array((projection_matrix_general(B) * np.matrix(x).T).T)\n",
    "    if y.shape[0] == 1:\n",
    "        return y[0]\n",
    "    return y"
   ]
  },
  {
   "cell_type": "code",
   "execution_count": 7,
   "metadata": {},
   "outputs": [],
   "source": [
    "# some unittest to test your implementation.\n",
    "# Orthogonal projection in 2d\n",
    "# define basis vector for subspace\n",
    "b = np.array([2,1]).reshape(-1,1)\n",
    "# point to be projected later\n",
    "x = np.array([1,2]).reshape(-1, 1)"
   ]
  },
  {
   "cell_type": "code",
   "execution_count": 8,
   "metadata": {},
   "outputs": [
    {
     "name": "stdout",
     "output_type": "stream",
     "text": [
      "correct\n"
     ]
    }
   ],
   "source": [
    "# Test 1D\n",
    "np_test.assert_almost_equal(projection_matrix_1d(np.array([1, 2, 2])), \n",
    "                            np.array([[1,  2,  2],\n",
    "                                      [2,  4,  4],\n",
    "                                      [2,  4,  4]]) / 9)\n",
    "\n",
    "np_test.assert_almost_equal(project_1d(np.ones(3),\n",
    "                                       np.array([1, 2, 2])),\n",
    "                            np.array([5, 10, 10]) / 9)\n",
    "\n",
    "B = np.array([[1, 0],\n",
    "              [1, 1],\n",
    "              [1, 2]])\n",
    "\n",
    "# Test General\n",
    "np_test.assert_almost_equal(projection_matrix_general(B), \n",
    "                            np.array([[5,  2, -1],\n",
    "                                      [2,  2,  2],\n",
    "                                      [-1, 2,  5]]) / 6)\n",
    "\n",
    "np_test.assert_almost_equal(project_general(np.array([6, 0, 0]), B), \n",
    "                            np.array([5, 2, -1]))\n",
    "print('correct')"
   ]
  }
 ],
 "metadata": {
  "kernelspec": {
   "display_name": "Python 3",
   "language": "python",
   "name": "python3"
  },
  "language_info": {
   "codemirror_mode": {
    "name": "ipython",
    "version": 3
   },
   "file_extension": ".py",
   "mimetype": "text/x-python",
   "name": "python",
   "nbconvert_exporter": "python",
   "pygments_lexer": "ipython3",
   "version": "3.6.4"
  }
 },
 "nbformat": 4,
 "nbformat_minor": 2
}
